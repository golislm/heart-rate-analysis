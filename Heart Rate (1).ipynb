{
 "cells": [
  {
   "cell_type": "markdown",
   "id": "6b48b61f-d189-4625-9a9c-1674a26d3fb4",
   "metadata": {},
   "source": [
    "# Heart Rate Analysis Project  \n",
    "\n",
    "In this project, we analyze data collected from 91 undergraduate students to investigate the effects of various factors on heart rate.  \n",
    "\n",
    "### Background  \n",
    "The students were divided into two groups:  \n",
    "1. One group ran in place for one minute.  \n",
    "2. The other group remained still.  \n",
    "\n",
    "We recorded several variables:  \n",
    "- **Height** and **Weight** (to be converted into metric units)  \n",
    "- **Gender**  \n",
    "- **Smoking status**  \n",
    "- **Activity level**  \n",
    "- **Pulse1**: resting heart rate measured before any activity  \n",
    "- **Pulse2**: heart rate after the activity (if applicable)  \n",
    "\n",
    "### Objectives  \n",
    "- Convert height (inches) and weight (pounds) into meters and kilograms.  \n",
    "- Calculate **BMI** for each individual.  \n",
    "- Perform descriptive statistics and data visualization.  \n",
    "- Explore how different factors (gender, smoking, activity, BMI) affect heart rate.  \n",
    "- Draw conclusions about the main factors influencing heart rate.  \n"
   ]
  },
  {
   "cell_type": "markdown",
   "id": "fb9bf446-4246-4cf1-9ea2-f7141397bb4d",
   "metadata": {},
   "source": [
    "# Step 1: Load the Data  \r\n",
    "First, we load the dataset to inspect its structure and content.\r\n"
   ]
  },
  {
   "cell_type": "code",
   "execution_count": 1,
   "id": "39c54e37-4abc-4804-9085-461c9ff7e6c6",
   "metadata": {},
   "outputs": [
    {
     "data": {
      "text/html": [
       "<div>\n",
       "<style scoped>\n",
       "    .dataframe tbody tr th:only-of-type {\n",
       "        vertical-align: middle;\n",
       "    }\n",
       "\n",
       "    .dataframe tbody tr th {\n",
       "        vertical-align: top;\n",
       "    }\n",
       "\n",
       "    .dataframe thead th {\n",
       "        text-align: right;\n",
       "    }\n",
       "</style>\n",
       "<table border=\"1\" class=\"dataframe\">\n",
       "  <thead>\n",
       "    <tr style=\"text-align: right;\">\n",
       "      <th></th>\n",
       "      <th>Pulse1</th>\n",
       "      <th>Pulse2</th>\n",
       "      <th>Ran</th>\n",
       "      <th>Smokes</th>\n",
       "      <th>Gender</th>\n",
       "      <th>Height</th>\n",
       "      <th>Weight</th>\n",
       "      <th>Activity</th>\n",
       "    </tr>\n",
       "  </thead>\n",
       "  <tbody>\n",
       "    <tr>\n",
       "      <th>0</th>\n",
       "      <td>64</td>\n",
       "      <td>88</td>\n",
       "      <td>Yes</td>\n",
       "      <td>No</td>\n",
       "      <td>M</td>\n",
       "      <td>66.0</td>\n",
       "      <td>140</td>\n",
       "      <td>Moderate</td>\n",
       "    </tr>\n",
       "    <tr>\n",
       "      <th>1</th>\n",
       "      <td>58</td>\n",
       "      <td>70</td>\n",
       "      <td>Yes</td>\n",
       "      <td>No</td>\n",
       "      <td>M</td>\n",
       "      <td>72.0</td>\n",
       "      <td>145</td>\n",
       "      <td>Moderate</td>\n",
       "    </tr>\n",
       "    <tr>\n",
       "      <th>2</th>\n",
       "      <td>62</td>\n",
       "      <td>76</td>\n",
       "      <td>Yes</td>\n",
       "      <td>Yes</td>\n",
       "      <td>M</td>\n",
       "      <td>73.5</td>\n",
       "      <td>160</td>\n",
       "      <td>A lot</td>\n",
       "    </tr>\n",
       "    <tr>\n",
       "      <th>3</th>\n",
       "      <td>66</td>\n",
       "      <td>78</td>\n",
       "      <td>Yes</td>\n",
       "      <td>Yes</td>\n",
       "      <td>M</td>\n",
       "      <td>73.0</td>\n",
       "      <td>190</td>\n",
       "      <td>Slight</td>\n",
       "    </tr>\n",
       "    <tr>\n",
       "      <th>4</th>\n",
       "      <td>64</td>\n",
       "      <td>80</td>\n",
       "      <td>Yes</td>\n",
       "      <td>No</td>\n",
       "      <td>M</td>\n",
       "      <td>69.0</td>\n",
       "      <td>155</td>\n",
       "      <td>Moderate</td>\n",
       "    </tr>\n",
       "  </tbody>\n",
       "</table>\n",
       "</div>"
      ],
      "text/plain": [
       "   Pulse1  Pulse2  Ran Smokes Gender  Height  Weight  Activity\n",
       "0      64      88  Yes     No      M    66.0     140  Moderate\n",
       "1      58      70  Yes     No      M    72.0     145  Moderate\n",
       "2      62      76  Yes    Yes      M    73.5     160     A lot\n",
       "3      66      78  Yes    Yes      M    73.0     190    Slight\n",
       "4      64      80  Yes     No      M    69.0     155  Moderate"
      ]
     },
     "execution_count": 1,
     "metadata": {},
     "output_type": "execute_result"
    }
   ],
   "source": [
    "import pandas as pd\n",
    "\n",
    "data = pd.read_csv(\"C:/Users/goli/OneDrive/Desktop/Job/Heart rate Analysis/heart_rate_data.csv\", sep=';')\n",
    "data.head()"
   ]
  },
  {
   "cell_type": "markdown",
   "id": "1e8b21da-c129-4a6f-9890-587eec518536",
   "metadata": {},
   "source": [
    "# Step 2: Data Overview  \r\n",
    "We check the basic information about the data including data types and missing values.\r\n"
   ]
  },
  {
   "cell_type": "code",
   "execution_count": 3,
   "id": "1bc58321-9c4b-4c3a-aef0-b8360c9e8275",
   "metadata": {},
   "outputs": [
    {
     "data": {
      "text/plain": [
       "(91, 8)"
      ]
     },
     "execution_count": 3,
     "metadata": {},
     "output_type": "execute_result"
    }
   ],
   "source": [
    "data.shape"
   ]
  },
  {
   "cell_type": "code",
   "execution_count": 5,
   "id": "474505d8-a5cf-4cfb-8d97-d450037d1698",
   "metadata": {},
   "outputs": [
    {
     "name": "stdout",
     "output_type": "stream",
     "text": [
      "<class 'pandas.core.frame.DataFrame'>\n",
      "RangeIndex: 91 entries, 0 to 90\n",
      "Data columns (total 8 columns):\n",
      " #   Column    Non-Null Count  Dtype  \n",
      "---  ------    --------------  -----  \n",
      " 0   Pulse1    91 non-null     int64  \n",
      " 1   Pulse2    91 non-null     int64  \n",
      " 2   Ran       91 non-null     object \n",
      " 3   Smokes    91 non-null     object \n",
      " 4   Gender    91 non-null     object \n",
      " 5   Height    91 non-null     float64\n",
      " 6   Weight    91 non-null     int64  \n",
      " 7   Activity  91 non-null     object \n",
      "dtypes: float64(1), int64(3), object(4)\n",
      "memory usage: 5.8+ KB\n"
     ]
    },
    {
     "data": {
      "text/plain": [
       "Pulse1      0\n",
       "Pulse2      0\n",
       "Ran         0\n",
       "Smokes      0\n",
       "Gender      0\n",
       "Height      0\n",
       "Weight      0\n",
       "Activity    0\n",
       "dtype: int64"
      ]
     },
     "execution_count": 5,
     "metadata": {},
     "output_type": "execute_result"
    }
   ],
   "source": [
    "data.info()\n",
    "data.isnull().sum()"
   ]
  },
  {
   "cell_type": "code",
   "execution_count": 7,
   "id": "aa700b4d-301a-4d65-aef1-126959277248",
   "metadata": {},
   "outputs": [
    {
     "name": "stdout",
     "output_type": "stream",
     "text": [
      "<class 'pandas.core.frame.DataFrame'>\n",
      "RangeIndex: 91 entries, 0 to 90\n",
      "Data columns (total 8 columns):\n",
      " #   Column    Non-Null Count  Dtype  \n",
      "---  ------    --------------  -----  \n",
      " 0   Pulse1    91 non-null     int64  \n",
      " 1   Pulse2    91 non-null     int64  \n",
      " 2   Ran       91 non-null     object \n",
      " 3   Smokes    91 non-null     object \n",
      " 4   Gender    91 non-null     object \n",
      " 5   Height    91 non-null     float64\n",
      " 6   Weight    91 non-null     int64  \n",
      " 7   Activity  91 non-null     object \n",
      "dtypes: float64(1), int64(3), object(4)\n",
      "memory usage: 5.8+ KB\n"
     ]
    }
   ],
   "source": [
    "data.info()"
   ]
  },
  {
   "cell_type": "code",
   "execution_count": 9,
   "id": "f06a8edd-e1a9-415c-b2e1-b3fc8461bd1f",
   "metadata": {},
   "outputs": [
    {
     "data": {
      "text/plain": [
       "Pulse1      0\n",
       "Pulse2      0\n",
       "Ran         0\n",
       "Smokes      0\n",
       "Gender      0\n",
       "Height      0\n",
       "Weight      0\n",
       "Activity    0\n",
       "dtype: int64"
      ]
     },
     "execution_count": 9,
     "metadata": {},
     "output_type": "execute_result"
    }
   ],
   "source": [
    "data.isnull().sum()"
   ]
  },
  {
   "cell_type": "markdown",
   "id": "afb83c13-ea88-4714-9771-68d7c3325d33",
   "metadata": {},
   "source": [
    "# Step 3: Data Cleaning and Preprocessing  \n",
    "In this step, we convert height from inches to meters and weight from pounds to kilograms.  \n",
    "We also calculate BMI for each individual."
   ]
  },
  {
   "cell_type": "code",
   "execution_count": 12,
   "id": "87dd8416-1d2f-40b6-bdc7-02170fb9f4cb",
   "metadata": {},
   "outputs": [
    {
     "data": {
      "text/html": [
       "<div>\n",
       "<style scoped>\n",
       "    .dataframe tbody tr th:only-of-type {\n",
       "        vertical-align: middle;\n",
       "    }\n",
       "\n",
       "    .dataframe tbody tr th {\n",
       "        vertical-align: top;\n",
       "    }\n",
       "\n",
       "    .dataframe thead th {\n",
       "        text-align: right;\n",
       "    }\n",
       "</style>\n",
       "<table border=\"1\" class=\"dataframe\">\n",
       "  <thead>\n",
       "    <tr style=\"text-align: right;\">\n",
       "      <th></th>\n",
       "      <th>Height</th>\n",
       "      <th>Height_m</th>\n",
       "      <th>Weight</th>\n",
       "      <th>Weight_kg</th>\n",
       "      <th>BMI</th>\n",
       "    </tr>\n",
       "  </thead>\n",
       "  <tbody>\n",
       "    <tr>\n",
       "      <th>0</th>\n",
       "      <td>66.0</td>\n",
       "      <td>1.6764</td>\n",
       "      <td>140</td>\n",
       "      <td>63.50288</td>\n",
       "      <td>22.596341</td>\n",
       "    </tr>\n",
       "    <tr>\n",
       "      <th>1</th>\n",
       "      <td>72.0</td>\n",
       "      <td>1.8288</td>\n",
       "      <td>145</td>\n",
       "      <td>65.77084</td>\n",
       "      <td>19.665317</td>\n",
       "    </tr>\n",
       "    <tr>\n",
       "      <th>2</th>\n",
       "      <td>73.5</td>\n",
       "      <td>1.8669</td>\n",
       "      <td>160</td>\n",
       "      <td>72.57472</td>\n",
       "      <td>20.822998</td>\n",
       "    </tr>\n",
       "    <tr>\n",
       "      <th>3</th>\n",
       "      <td>73.0</td>\n",
       "      <td>1.8542</td>\n",
       "      <td>190</td>\n",
       "      <td>86.18248</td>\n",
       "      <td>25.067200</td>\n",
       "    </tr>\n",
       "    <tr>\n",
       "      <th>4</th>\n",
       "      <td>69.0</td>\n",
       "      <td>1.7526</td>\n",
       "      <td>155</td>\n",
       "      <td>70.30676</td>\n",
       "      <td>22.889245</td>\n",
       "    </tr>\n",
       "  </tbody>\n",
       "</table>\n",
       "</div>"
      ],
      "text/plain": [
       "   Height  Height_m  Weight  Weight_kg        BMI\n",
       "0    66.0    1.6764     140   63.50288  22.596341\n",
       "1    72.0    1.8288     145   65.77084  19.665317\n",
       "2    73.5    1.8669     160   72.57472  20.822998\n",
       "3    73.0    1.8542     190   86.18248  25.067200\n",
       "4    69.0    1.7526     155   70.30676  22.889245"
      ]
     },
     "execution_count": 12,
     "metadata": {},
     "output_type": "execute_result"
    }
   ],
   "source": [
    "# Convert height from inches to meters\n",
    "data['Height_m'] = data['Height'].astype(float) * 0.0254\n",
    "\n",
    "# Convert weight from pounds to kilograms\n",
    "data['Weight_kg'] = data['Weight'].astype(float) * 0.453592\n",
    "\n",
    "# Calculate BMI = Weight (kg) / Height (m)^2\n",
    "data['BMI'] = data['Weight_kg'] / (data['Height_m'] ** 2)\n",
    "\n",
    "data[['Height', 'Height_m', 'Weight', 'Weight_kg', 'BMI']].head()\n"
   ]
  },
  {
   "cell_type": "markdown",
   "id": "2f4f310e-73bf-415b-80fe-39897d1400ca",
   "metadata": {},
   "source": [
    "### Step 4: Descriptive Statistics  \n",
    "\n",
    "We use `data.describe()` to generate a statistical summary of all numerical columns in the dataset.  \n",
    "\n",
    "- **count**: number of non-missing values  \n",
    "- **mean**: average of the values  \n",
    "- **std**: standard deviation (spread of the data)  \n",
    "- **min**: smallest value  \n",
    "- **25%**: 25th percentile (quarter of the data is below this)  \n",
    "- **50% (median)**: middle value of the data  \n",
    "- **75%**: 75th percentile (three-quarters of the data is below this)  \n",
    "- **max**: largest value  \n"
   ]
  },
  {
   "cell_type": "code",
   "execution_count": 15,
   "id": "bd65d841-0531-41d2-8778-71be9073122d",
   "metadata": {},
   "outputs": [
    {
     "data": {
      "text/html": [
       "<div>\n",
       "<style scoped>\n",
       "    .dataframe tbody tr th:only-of-type {\n",
       "        vertical-align: middle;\n",
       "    }\n",
       "\n",
       "    .dataframe tbody tr th {\n",
       "        vertical-align: top;\n",
       "    }\n",
       "\n",
       "    .dataframe thead th {\n",
       "        text-align: right;\n",
       "    }\n",
       "</style>\n",
       "<table border=\"1\" class=\"dataframe\">\n",
       "  <thead>\n",
       "    <tr style=\"text-align: right;\">\n",
       "      <th></th>\n",
       "      <th>Pulse1</th>\n",
       "      <th>Pulse2</th>\n",
       "      <th>Height</th>\n",
       "      <th>Weight</th>\n",
       "      <th>Height_m</th>\n",
       "      <th>Weight_kg</th>\n",
       "      <th>BMI</th>\n",
       "    </tr>\n",
       "  </thead>\n",
       "  <tbody>\n",
       "    <tr>\n",
       "      <th>count</th>\n",
       "      <td>91.000000</td>\n",
       "      <td>91.000000</td>\n",
       "      <td>91.000000</td>\n",
       "      <td>91.000000</td>\n",
       "      <td>91.000000</td>\n",
       "      <td>91.000000</td>\n",
       "      <td>91.000000</td>\n",
       "    </tr>\n",
       "    <tr>\n",
       "      <th>mean</th>\n",
       "      <td>73.142857</td>\n",
       "      <td>80.285714</td>\n",
       "      <td>68.725275</td>\n",
       "      <td>145.098901</td>\n",
       "      <td>1.745622</td>\n",
       "      <td>65.815701</td>\n",
       "      <td>21.485420</td>\n",
       "    </tr>\n",
       "    <tr>\n",
       "      <th>std</th>\n",
       "      <td>10.751301</td>\n",
       "      <td>16.966166</td>\n",
       "      <td>3.678778</td>\n",
       "      <td>23.865389</td>\n",
       "      <td>0.093441</td>\n",
       "      <td>10.825149</td>\n",
       "      <td>2.217887</td>\n",
       "    </tr>\n",
       "    <tr>\n",
       "      <th>min</th>\n",
       "      <td>54.000000</td>\n",
       "      <td>50.000000</td>\n",
       "      <td>61.000000</td>\n",
       "      <td>95.000000</td>\n",
       "      <td>1.549400</td>\n",
       "      <td>43.091240</td>\n",
       "      <td>16.725257</td>\n",
       "    </tr>\n",
       "    <tr>\n",
       "      <th>25%</th>\n",
       "      <td>65.000000</td>\n",
       "      <td>69.000000</td>\n",
       "      <td>66.000000</td>\n",
       "      <td>125.000000</td>\n",
       "      <td>1.676400</td>\n",
       "      <td>56.699000</td>\n",
       "      <td>19.998249</td>\n",
       "    </tr>\n",
       "    <tr>\n",
       "      <th>50%</th>\n",
       "      <td>72.000000</td>\n",
       "      <td>76.000000</td>\n",
       "      <td>69.000000</td>\n",
       "      <td>145.000000</td>\n",
       "      <td>1.752600</td>\n",
       "      <td>65.770840</td>\n",
       "      <td>21.412520</td>\n",
       "    </tr>\n",
       "    <tr>\n",
       "      <th>75%</th>\n",
       "      <td>80.000000</td>\n",
       "      <td>86.000000</td>\n",
       "      <td>72.000000</td>\n",
       "      <td>156.000000</td>\n",
       "      <td>1.828800</td>\n",
       "      <td>70.760352</td>\n",
       "      <td>22.799602</td>\n",
       "    </tr>\n",
       "    <tr>\n",
       "      <th>max</th>\n",
       "      <td>100.000000</td>\n",
       "      <td>140.000000</td>\n",
       "      <td>75.000000</td>\n",
       "      <td>215.000000</td>\n",
       "      <td>1.905000</td>\n",
       "      <td>97.522280</td>\n",
       "      <td>29.158919</td>\n",
       "    </tr>\n",
       "  </tbody>\n",
       "</table>\n",
       "</div>"
      ],
      "text/plain": [
       "           Pulse1      Pulse2     Height      Weight   Height_m  Weight_kg  \\\n",
       "count   91.000000   91.000000  91.000000   91.000000  91.000000  91.000000   \n",
       "mean    73.142857   80.285714  68.725275  145.098901   1.745622  65.815701   \n",
       "std     10.751301   16.966166   3.678778   23.865389   0.093441  10.825149   \n",
       "min     54.000000   50.000000  61.000000   95.000000   1.549400  43.091240   \n",
       "25%     65.000000   69.000000  66.000000  125.000000   1.676400  56.699000   \n",
       "50%     72.000000   76.000000  69.000000  145.000000   1.752600  65.770840   \n",
       "75%     80.000000   86.000000  72.000000  156.000000   1.828800  70.760352   \n",
       "max    100.000000  140.000000  75.000000  215.000000   1.905000  97.522280   \n",
       "\n",
       "             BMI  \n",
       "count  91.000000  \n",
       "mean   21.485420  \n",
       "std     2.217887  \n",
       "min    16.725257  \n",
       "25%    19.998249  \n",
       "50%    21.412520  \n",
       "75%    22.799602  \n",
       "max    29.158919  "
      ]
     },
     "execution_count": 15,
     "metadata": {},
     "output_type": "execute_result"
    }
   ],
   "source": [
    "data.describe()"
   ]
  },
  {
   "cell_type": "markdown",
   "id": "8675c095-652e-4644-b118-69e96a1dfc9b",
   "metadata": {},
   "source": [
    "# Step 5: Exploratory Data Analysis (EDA)  \n",
    "Here we explore the distribution and relationships between variables such as BMI, pulse, gender, smoking status, and activity level.\n"
   ]
  },
  {
   "cell_type": "code",
   "execution_count": 18,
   "id": "66a9f318-9f2a-4fca-a80a-fcd0b63414eb",
   "metadata": {},
   "outputs": [
    {
     "data": {
      "image/png": "[encoded data removed]",
      "text/plain": [
       "<Figure size 640x480 with 1 Axes>"
      ]
     },
     "metadata": {},
     "output_type": "display_data"
    },
    {
     "data": {
      "image/png": "[encoded data removed]",
      "text/plain": [
       "<Figure size 640x480 with 1 Axes>"
      ]
     },
     "metadata": {},
     "output_type": "display_data"
    }
   ],
   "source": [
    "import matplotlib.pyplot as plt\n",
    "import seaborn as sns\n",
    "\n",
    "sns.histplot(data['BMI'], kde=True)\n",
    "plt.title('BMI Distribution')\n",
    "plt.show()\n",
    "\n",
    "sns.boxplot(x='Gender', y='Pulse1', data=data)\n",
    "plt.title('Pulse1 by Gender')\n",
    "plt.show()\n"
   ]
  },
  {
   "cell_type": "markdown",
   "id": "7a519b38-8d12-4511-aa22-be3522a50186",
   "metadata": {},
   "source": [
    "\n",
    "### Initial Observations: BMI Distribution  \r\n",
    "\r\n",
    "- Most participants have a **BMI around 20**, which is in the normal weight range.  \r\n",
    "- The majority of BMI values fall between **19 and 23**.  \r\n",
    "- The distribution is slightly skewed to the right, meaning there are a few participants with higher BMI values.  \r\n",
    "- The spread of the data is moderate, with no extreme outliers.### Initial Observations: Pulse1 by Gender  \r\n",
    "\r\n",
    "- The boxplot shows that the median **resting heart rate (Pulse1)** is slightly higher in females than in males.  \r\n",
    "- The variability (IQR) is larger in females, meaning their resting pulse rates vary more.  \r\n",
    "- There is at least one outlier in the male group (a higher pulse rate than the rest).  \r\n",
    "- Overall, gender may have some influence on resting heart rate, but further statistical analysis is needed to confirm.  \r\n",
    "  \r\n",
    "e box.  \n"
   ]
  },
  {
   "cell_type": "markdown",
   "id": "76bff172-f233-47ce-9f98-a21509f42920",
   "metadata": {},
   "source": [
    "### Pulse1 by Smoking Status  \n",
    "\n",
    "We compare the resting heart rate (Pulse1) between smokers and non-smokers to see if smoking status influences heart rate.\n"
   ]
  },
  {
   "cell_type": "code",
   "execution_count": 22,
   "id": "3855c38c-9ce6-45c5-b03d-34dfc8c15249",
   "metadata": {},
   "outputs": [
    {
     "data": {
      "image/png": "[encoded data removed]",
      "text/plain": [
       "<Figure size 640x480 with 1 Axes>"
      ]
     },
     "metadata": {},
     "output_type": "display_data"
    }
   ],
   "source": [
    "sns.boxplot(x='Smokes', y='Pulse1', data=data)\n",
    "plt.title('Pulse1 by Smoking Status')\n",
    "plt.show()"
   ]
  },
  {
   "cell_type": "markdown",
   "id": "5faef739-b7f2-4ea3-ac97-8cca17320c5c",
   "metadata": {},
   "source": [
    "\n",
    "### Observations: Pulse1 by Smoking Status  \n",
    "\n",
    "- The median **resting heart rate (Pulse1)** is higher in smokers compared to non-smokers.  \n",
    "- Smokers also show slightly more variability in their resting heart rate.  \n",
    "- This suggests that smoking may have a negative impact on resting heart rate, but further statistical tests are needed to confirm this.  \n",
    "\n",
    "**Why is Pulse1 higher in smokers?**  \n",
    "\n",
    "- Nicotine stimulates the sympathetic nervous system, increasing heart rate even at rest.  \n",
    "- Smoking reduces oxygen-carrying capacity, so the heart must beat faster to deliver enough oxygen.  \n",
    "- Long-term smoking puts extra strain on the cardiovascular system, which can lead to elevated resting heart rates.  \n"
   ]
  },
  {
   "cell_type": "markdown",
   "id": "cfe2e2f5-cc2d-4413-8dea-0df77eb9c0ad",
   "metadata": {},
   "source": [
    "### Pulse1 by Activity Level  \n",
    "\n",
    "We compare the resting heart rate (Pulse1) among different self-reported activity levels  \n",
    "(Slight, Moderate, A lot) to see if physical activity habits influence heart rate.\n"
   ]
  },
  {
   "cell_type": "code",
   "execution_count": 26,
   "id": "75ac0a45-d61b-4ac1-b889-c9d6c76386ae",
   "metadata": {},
   "outputs": [
    {
     "data": {
      "image/png": "[encoded data removed]",
      "text/plain": [
       "<Figure size 640x480 with 1 Axes>"
      ]
     },
     "metadata": {},
     "output_type": "display_data"
    }
   ],
   "source": [
    "sns.boxplot(x='Activity', y='Pulse1', data=data)\n",
    "plt.title('Pulse1 by Activity Level')\n",
    "plt.show()\n"
   ]
  },
  {
   "cell_type": "markdown",
   "id": "d0b6cf89-f89f-42fb-99fe-d84c5a5fdc99",
   "metadata": {},
   "source": [
    "\n",
    "### Observations: Pulse1 by Activity Level  \n",
    "\n",
    "- Participants with **Slight** activity levels have a higher median resting heart rate (Pulse1), slightly above 80 bpm.  \n",
    "- Those with **Moderate** and **A lot** activity levels show a lower median resting heart rate, around 70 bpm.  \n",
    "- This suggests that individuals with more regular physical activity tend to have a healthier, lower resting heart rate.  \n",
    "\n",
    "---\n",
    "\n",
    "**Why is Pulse1 higher in low-activity participants?**  \n",
    "\n",
    "- Regular physical activity strengthens the heart muscle, allowing it to pump more efficiently and at a lower rate.  \n",
    "- Individuals with little physical activity often have less cardiovascular fitness, leading to higher resting heart rates.  \n"
   ]
  },
  {
   "cell_type": "markdown",
   "id": "e9a2a66c-eede-481e-96cd-0fa152b49d99",
   "metadata": {},
   "source": [
    "### Pulse1 vs BMI  \n",
    "We explore the relationship between BMI and resting heart rate."
   ]
  },
  {
   "cell_type": "code",
   "execution_count": 35,
   "id": "90a65d0e-a558-4f8f-8559-be36e11d0b61",
   "metadata": {},
   "outputs": [
    {
     "data": {
      "image/png": "[encoded data removed]",
      "text/plain": [
       "<Figure size 640x480 with 1 Axes>"
      ]
     },
     "metadata": {},
     "output_type": "display_data"
    }
   ],
   "source": [
    "sns.scatterplot(x='BMI', y='Pulse1', data=data)\n",
    "plt.title('Pulse1 vs BMI')\n",
    "plt.show()\n"
   ]
  },
  {
   "cell_type": "code",
   "execution_count": 30,
   "id": "93a35d8f-1342-4513-9cfb-a6f56afd9809",
   "metadata": {},
   "outputs": [
    {
     "data": {
      "image/png": "[encoded data removed]",
      "text/plain": [
       "<Figure size 800x500 with 1 Axes>"
      ]
     },
     "metadata": {},
     "output_type": "display_data"
    }
   ],
   "source": [
    "import seaborn as sns\n",
    "import matplotlib.pyplot as plt\n",
    "\n",
    "plt.figure(figsize=(8, 5))\n",
    "sns.boxplot(x='Activity', y='Pulse1', data=data)\n",
    "plt.title('Resting Pulse (Pulse1) by Activity Level')\n",
    "plt.xlabel('Activity Level')\n",
    "plt.ylabel('Pulse1 (Resting Heart Rate)')\n",
    "plt.show()\n"
   ]
  },
  {
   "cell_type": "markdown",
   "id": "b860c4c3-04d8-412e-acae-ddfb6c13e30d",
   "metadata": {},
   "source": [
    "### 💓 Pulse1 by Activity Level\n",
    "\n",
    "- Participants with **Slight** activity levels have a **higher** resting heart rate (Pulse1), slightly above **80 bpm**.\n",
    "- Participants with **Moderate** or **A lot** activity have **lower** Pulse1 values, around **70 bpm**.\n",
    "- 🏃‍♂️ This implies that individuals with more physical activity tend to have better cardiovascular health, leading to a lower resting heart rate.\n",
    "\n",
    "💡 **Why does this happen?**  \n",
    "Regular physical activity increases heart efficiency and lowers resting heart rate. Sedentary individuals typically have weaker cardiovascular systems.\n"
   ]
  },
  {
   "cell_type": "code",
   "execution_count": 38,
   "id": "c66acabc-9280-4d70-b681-c5e6e792863f",
   "metadata": {},
   "outputs": [
    {
     "data": {
      "image/png": "[encoded data removed]",
      "text/plain": [
       "<Figure size 700x500 with 1 Axes>"
      ]
     },
     "metadata": {},
     "output_type": "display_data"
    }
   ],
   "source": [
    "plt.figure(figsize=(7, 5))\n",
    "sns.boxplot(x='Ran', y='Pulse1', data=data, palette='Set2')\n",
    "plt.title('Pulse1 by Ran Status')\n",
    "plt.xlabel('Ran (Yes/No)')\n",
    "plt.ylabel('Pulse1 (Resting Heart Rate)')\n",
    "plt.show()\n"
   ]
  },
  {
   "cell_type": "markdown",
   "id": "83c7b01d-b141-412c-991e-a056c2edb02f",
   "metadata": {},
   "source": [
    "### 🏃‍♀️ Pulse1 by Ran (Effect of Light Exercise on Resting Heart Rate)\n",
    "\n",
    "- Participants who were assigned to the **running group** (i.e., ran in place for one minute) show a **slightly elevated resting heart rate (Pulse1)** compared to those who remained still.\n",
    "- Although **Pulse1** is ideally measured before any physical exertion, the observed values suggest a subtle increase in those who were expected to run.\n",
    "- This difference may result from:\n",
    "  - Measurement timing being too close to the physical activity, causing residual cardiovascular stimulation.\n",
    "  - Differences in **baseline fitness levels**—individuals who are less fit may exhibit higher resting heart rates post minor exertion.\n",
    "  - Natural variability in heart rate due to other unmeasured factors such as stress, hydration, or prior sleep.\n",
    "\n",
    "💡 **Interpretation:**  \n",
    "While the effect is not strongly pronounced, the trend suggests that even light activity (such as 1-minute running in place) can influence **resting heart rate readings** if measured shortly after exertion. This highlights the importance of ensuring standardized conditions when collecting physiological data.\n"
   ]
  },
  {
   "cell_type": "code",
   "execution_count": 42,
   "id": "ab904553-fd7d-4ec8-bf6a-1f5e645b7d7d",
   "metadata": {},
   "outputs": [
    {
     "data": {
      "text/html": [
       "<table class=\"simpletable\">\n",
       "<caption>OLS Regression Results</caption>\n",
       "<tr>\n",
       "  <th>Dep. Variable:</th>         <td>Pulse2</td>      <th>  R-squared:         </th> <td>   0.750</td>\n",
       "</tr>\n",
       "<tr>\n",
       "  <th>Model:</th>                   <td>OLS</td>       <th>  Adj. R-squared:    </th> <td>   0.729</td>\n",
       "</tr>\n",
       "<tr>\n",
       "  <th>Method:</th>             <td>Least Squares</td>  <th>  F-statistic:       </th> <td>   35.51</td>\n",
       "</tr>\n",
       "<tr>\n",
       "  <th>Date:</th>             <td>Fri, 01 Aug 2025</td> <th>  Prob (F-statistic):</th> <td>2.00e-22</td>\n",
       "</tr>\n",
       "<tr>\n",
       "  <th>Time:</th>                 <td>13:16:07</td>     <th>  Log-Likelihood:    </th> <td> -323.24</td>\n",
       "</tr>\n",
       "<tr>\n",
       "  <th>No. Observations:</th>      <td>    91</td>      <th>  AIC:               </th> <td>   662.5</td>\n",
       "</tr>\n",
       "<tr>\n",
       "  <th>Df Residuals:</th>          <td>    83</td>      <th>  BIC:               </th> <td>   682.6</td>\n",
       "</tr>\n",
       "<tr>\n",
       "  <th>Df Model:</th>              <td>     7</td>      <th>                     </th>     <td> </td>   \n",
       "</tr>\n",
       "<tr>\n",
       "  <th>Covariance Type:</th>      <td>nonrobust</td>    <th>                     </th>     <td> </td>   \n",
       "</tr>\n",
       "</table>\n",
       "<table class=\"simpletable\">\n",
       "<tr>\n",
       "             <td></td>                <th>coef</th>     <th>std err</th>      <th>t</th>      <th>P>|t|</th>  <th>[0.025</th>    <th>0.975]</th>  \n",
       "</tr>\n",
       "<tr>\n",
       "  <th>Intercept</th>               <td>   15.7907</td> <td>   12.111</td> <td>    1.304</td> <td> 0.196</td> <td>   -8.299</td> <td>   39.880</td>\n",
       "</tr>\n",
       "<tr>\n",
       "  <th>C(Gender)[T.M]</th>          <td>   -5.8209</td> <td>    2.217</td> <td>   -2.626</td> <td> 0.010</td> <td>  -10.230</td> <td>   -1.412</td>\n",
       "</tr>\n",
       "<tr>\n",
       "  <th>C(Smokes)[T.Yes]</th>        <td>   -1.7321</td> <td>    2.150</td> <td>   -0.805</td> <td> 0.423</td> <td>   -6.009</td> <td>    2.545</td>\n",
       "</tr>\n",
       "<tr>\n",
       "  <th>C(Activity)[T.Moderate]</th> <td>    7.1813</td> <td>    2.292</td> <td>    3.133</td> <td> 0.002</td> <td>    2.623</td> <td>   11.740</td>\n",
       "</tr>\n",
       "<tr>\n",
       "  <th>C(Activity)[T.Slight]</th>   <td>    2.2681</td> <td>    3.618</td> <td>    0.627</td> <td> 0.532</td> <td>   -4.927</td> <td>    9.463</td>\n",
       "</tr>\n",
       "<tr>\n",
       "  <th>C(Ran)[T.Yes]</th>           <td>   19.7478</td> <td>    1.937</td> <td>   10.193</td> <td> 0.000</td> <td>   15.894</td> <td>   23.601</td>\n",
       "</tr>\n",
       "<tr>\n",
       "  <th>Pulse1</th>                  <td>    0.8605</td> <td>    0.094</td> <td>    9.125</td> <td> 0.000</td> <td>    0.673</td> <td>    1.048</td>\n",
       "</tr>\n",
       "<tr>\n",
       "  <th>BMI</th>                     <td>   -0.3249</td> <td>    0.475</td> <td>   -0.684</td> <td> 0.496</td> <td>   -1.270</td> <td>    0.620</td>\n",
       "</tr>\n",
       "</table>\n",
       "<table class=\"simpletable\">\n",
       "<tr>\n",
       "  <th>Omnibus:</th>       <td> 3.999</td> <th>  Durbin-Watson:     </th> <td>   1.658</td>\n",
       "</tr>\n",
       "<tr>\n",
       "  <th>Prob(Omnibus):</th> <td> 0.135</td> <th>  Jarque-Bera (JB):  </th> <td>   3.270</td>\n",
       "</tr>\n",
       "<tr>\n",
       "  <th>Skew:</th>          <td> 0.398</td> <th>  Prob(JB):          </th> <td>   0.195</td>\n",
       "</tr>\n",
       "<tr>\n",
       "  <th>Kurtosis:</th>      <td> 3.478</td> <th>  Cond. No.          </th> <td>1.01e+03</td>\n",
       "</tr>\n",
       "</table><br/><br/>Notes:<br/>[1] Standard Errors assume that the covariance matrix of the errors is correctly specified.<br/>[2] The condition number is large, 1.01e+03. This might indicate that there are<br/>strong multicollinearity or other numerical problems."
      ],
      "text/plain": [
       "<class 'statsmodels.iolib.summary.Summary'>\n",
       "\"\"\"\n",
       "                            OLS Regression Results                            \n",
       "==============================================================================\n",
       "Dep. Variable:                 Pulse2   R-squared:                       0.750\n",
       "Model:                            OLS   Adj. R-squared:                  0.729\n",
       "Method:                 Least Squares   F-statistic:                     35.51\n",
       "Date:                Fri, 01 Aug 2025   Prob (F-statistic):           2.00e-22\n",
       "Time:                        13:16:07   Log-Likelihood:                -323.24\n",
       "No. Observations:                  91   AIC:                             662.5\n",
       "Df Residuals:                      83   BIC:                             682.6\n",
       "Df Model:                           7                                         \n",
       "Covariance Type:            nonrobust                                         \n",
       "===========================================================================================\n",
       "                              coef    std err          t      P>|t|      [0.025      0.975]\n",
       "-------------------------------------------------------------------------------------------\n",
       "Intercept                  15.7907     12.111      1.304      0.196      -8.299      39.880\n",
       "C(Gender)[T.M]             -5.8209      2.217     -2.626      0.010     -10.230      -1.412\n",
       "C(Smokes)[T.Yes]           -1.7321      2.150     -0.805      0.423      -6.009       2.545\n",
       "C(Activity)[T.Moderate]     7.1813      2.292      3.133      0.002       2.623      11.740\n",
       "C(Activity)[T.Slight]       2.2681      3.618      0.627      0.532      -4.927       9.463\n",
       "C(Ran)[T.Yes]              19.7478      1.937     10.193      0.000      15.894      23.601\n",
       "Pulse1                      0.8605      0.094      9.125      0.000       0.673       1.048\n",
       "BMI                        -0.3249      0.475     -0.684      0.496      -1.270       0.620\n",
       "==============================================================================\n",
       "Omnibus:                        3.999   Durbin-Watson:                   1.658\n",
       "Prob(Omnibus):                  0.135   Jarque-Bera (JB):                3.270\n",
       "Skew:                           0.398   Prob(JB):                        0.195\n",
       "Kurtosis:                       3.478   Cond. No.                     1.01e+03\n",
       "==============================================================================\n",
       "\n",
       "Notes:\n",
       "[1] Standard Errors assume that the covariance matrix of the errors is correctly specified.\n",
       "[2] The condition number is large, 1.01e+03. This might indicate that there are\n",
       "strong multicollinearity or other numerical problems.\n",
       "\"\"\""
      ]
     },
     "execution_count": 42,
     "metadata": {},
     "output_type": "execute_result"
    }
   ],
   "source": [
    "import statsmodels.formula.api as smf\n",
    "\n",
    "model = smf.ols(\"Pulse2 ~ Pulse1 + BMI + C(Gender) + C(Smokes) + C(Activity) + C(Ran)\", data=data).fit()\n",
    "model.summary()\n"
   ]
  },
  {
   "cell_type": "markdown",
   "id": "00a7e0ac-eb73-4bf5-b2c4-7fd167a2cd4d",
   "metadata": {},
   "source": [
    "## Linear Regression Analysis\n",
    "\n",
    "In this section, we use Ordinary Least Squares (OLS) regression to examine the effects of several factors on post-activity heart rate (`Pulse2`).\n",
    "\n",
    "### 🎯 Objective\n",
    "To model `Pulse2` based on the following predictors:\n",
    "- `Pulse1` (resting heart rate)\n",
    "- `BMI` (Body Mass Index)\n",
    "- `Gender` (categorical)\n",
    "- `Smokes` (categorical)\n",
    "- `Activity` level (categorical)\n",
    "- `Ran` (whether the subject ran in place for one minute)\n",
    "\n",
    "### 🧠 Assumptions of Linear Regression\n",
    "1. A linear relationship exists between predictors and the response.\n",
    "2. Residuals (errors) are normally distributed.\n",
    "3. Homoscedasticity: constant variance of residuals.\n",
    "4. Observations are independent.\n",
    "5. No strong multicollinearity between predictors.\n",
    "\n",
    "### ⚙️ Model Specification\n",
    "We apply OLS regression. The general model is:\n",
    "\n",
    "\\[\n",
    "\\text{Pulse2} = \\beta_0 + \\beta_1 \\cdot \\text{Pulse1} + \\beta_2 \\cdot \\text{BMI} + \\text{(Gender + Smokes + Activity + Ran)} + \\epsilon\n",
    "\\]\n",
    "\n",
    "Categorical variables (e.g., Gender, Activity) are automatically encoded as dummy variables.\n",
    "\n",
    "### 📊 Key Outputs and Interpretation\n",
    "- **R-squared**: Percentage of variation in `Pulse2` explained by the model.\n",
    "- **p-values**: Indicate whether each predictor is statistically significant (typically, p < 0.05).\n",
    "- **Coefficients (coef)**: Show the estimated effect of each variable on `Pulse2`, holding others constant.\n",
    "- **Durbin–Watson**: Tests for autocorrelation in residuals (values close to 2 are ideal).\n",
    "- **Jarque–Bera and Omnibus tests**: Assess normality of residuals (p > 0.05 means normality is not rejected).\n",
    "- **Condition Number**: Checks for multicollinearity (high values suggest potential issues).\n",
    "\n",
    "### ✅ Conclusion\n",
    "By analyzing regression outputs, we identify which variables (e.g., running, smoking, activity level) most influence post-exercise heart rate. We also evaluate whether model assumptions are reasonably met.\n",
    "\n",
    "In the next cells, we will present the regression results and diagnostic plots.\n"
   ]
  }
 ],
 "metadata": {
  "kernelspec": {
   "display_name": "Python 3 (ipykernel)",
   "language": "python",
   "name": "python3"
  },
  "language_info": {
   "codemirror_mode": {
    "name": "ipython",
    "version": 3
   },
   "file_extension": ".py",
   "mimetype": "text/x-python",
   "name": "python",
   "nbconvert_exporter": "python",
   "pygments_lexer": "ipython3",
   "version": "3.10.9"
  }
 },
 "nbformat": 4,
 "nbformat_minor": 5
}
